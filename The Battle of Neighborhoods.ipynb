{
    "cells": [
        {
            "cell_type": "markdown",
            "metadata": {
                "collapsed": true
            },
            "source": "# The Battle of Neighborhoods"
        },
        {
            "cell_type": "markdown",
            "metadata": {},
            "source": "### 1.Introduction"
        },
        {
            "cell_type": "markdown",
            "metadata": {},
            "source": "#### 1. a) Background"
        },
        {
            "cell_type": "markdown",
            "metadata": {},
            "source": "<p>The city of Toronto is the most populous city of Canada with an estimated population of around 3 million in 2018.  Toronto is an international centre of business, finance, arts, and culture which has made it an important destination for immigrants to Canada. Such a large population of immigrants from around the globe has also made Toronto one of the most multicultural and cosmopolitan cities in the world.\nNeighborhoods in Toronto : Situated on the natural harbor, the city of Toronto is composed of five boroughs (each having multiple neighborhoods) which are now obsolete. They were amalgamated out of existence and replaced by the enlarged City of Toronto effective January 1, 1998. Borough names were Etobicoke, York, North York, East York and Scarborough, surrounding the old city of Toronto, which actually resembled an irregular inverted T.</p>"
        },
        {
            "cell_type": "markdown",
            "metadata": {},
            "source": "####  1. b) Problem Description"
        },
        {
            "cell_type": "markdown",
            "metadata": {},
            "source": "<p>Let me introduce the context of this  problem through a scenario. Say you live on the west side of the city of Toronto in Canada. You love your neighborhood, mainly because of all the great amenities and other types of venues that exist in the neighborhood, such as gourmet fast food joints, pharmacies, parks, grad schools and so on. Now, say you receive a job offer from a great company on the other side of the city with great career prospects. However, given the far distance from your current place you unfortunately must move if you decide to accept the offer. \nWouldn't it be great if you're able to determine neighborhoods on the other side of the city that are exactly the same as your current neighborhood, and if not perhaps similar neighborhoods that are at least closer to your new job?</p>"
        },
        {
            "cell_type": "markdown",
            "metadata": {},
            "source": "#### 1. c) Objective "
        },
        {
            "cell_type": "markdown",
            "metadata": {},
            "source": "<p>The aim of this project is to identify similar neighborhoods in the city of Toronto based on the amenities and top venues that exist in that particular neighborhood. </p>"
        },
        {
            "cell_type": "markdown",
            "metadata": {},
            "source": "#### 1. d) Target Audience "
        },
        {
            "cell_type": "markdown",
            "metadata": {},
            "source": "<p>The information provided in this article would be useful for people who have to relocate in the city of Toronto and are interested to move to similar neighborhoods based on the facilities and venues in their existing neighborhood. Moreover, this information can also be useful for people moving to Toronto as they can find out the top 10 venues for all the neighborhoods in the city and can choose the one that suits them the most. </p>"
        },
        {
            "cell_type": "markdown",
            "metadata": {},
            "source": "### 2. Description of Data"
        },
        {
            "cell_type": "markdown",
            "metadata": {},
            "source": "The main sources of data used in this project are listed below:\n1. **Wikipedia**: The list of all the neighborhoods in Toronto was obtained by scraping data from the following wikipedia page: https://en.wikipedia.org/wiki/List_of_postal_codes_of_Canada:_M\n2. **Coordinate dataset**: Dataset containing coordinates of all neighborhoods in Toronto was obtained from the following csv file: http://cocl.us/Geospatial_data \n3. **Venue Dataset**: Dataset containing top venues for each neighborhood was obtained using Foursquare API: https://foursquare.com/\n"
        },
        {
            "cell_type": "code",
            "execution_count": null,
            "metadata": {},
            "outputs": [],
            "source": ""
        }
    ],
    "metadata": {
        "kernelspec": {
            "display_name": "Python 3.6",
            "language": "python",
            "name": "python3"
        },
        "language_info": {
            "codemirror_mode": {
                "name": "ipython",
                "version": 3
            },
            "file_extension": ".py",
            "mimetype": "text/x-python",
            "name": "python",
            "nbconvert_exporter": "python",
            "pygments_lexer": "ipython3",
            "version": "3.6.9"
        }
    },
    "nbformat": 4,
    "nbformat_minor": 1
}